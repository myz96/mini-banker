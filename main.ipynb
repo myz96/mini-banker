{
 "cells": [
  {
   "cell_type": "code",
   "execution_count": 1,
   "metadata": {},
   "outputs": [
    {
     "name": "stdout",
     "output_type": "stream",
     "text": [
      "--2025-01-11 16:03:07--  https://s2.q4cdn.com/470004039/files/doc_earnings/2024/q4/filing/10-Q4-2024-As-Filed.pdf\n",
      "Resolving s2.q4cdn.com (s2.q4cdn.com)... 68.70.207.2, 68.70.207.1, 68.70.207.3, ...\n",
      "Connecting to s2.q4cdn.com (s2.q4cdn.com)|68.70.207.2|:443... connected.\n",
      "HTTP request sent, awaiting response... 200 OK\n",
      "Length: 963934 (941K) [application/pdf]\n",
      "Saving to: ‘./annual-reports/dsk-Q4.pdf’\n",
      "\n",
      "./annual-reports/ds 100%[===================>] 941.34K  --.-KB/s    in 0.1s    \n",
      "\n",
      "2025-01-11 16:03:07 (8.30 MB/s) - ‘./annual-reports/dsk-Q4.pdf’ saved [963934/963934]\n",
      "\n",
      "--2025-01-11 16:03:07--  https://s21.q4cdn.com/399680738/files/doc_news/Meta-Reports-Second-Quarter-2024-Results-2024.pdf\n",
      "Resolving s21.q4cdn.com (s21.q4cdn.com)... 68.70.207.2, 68.70.207.1, 68.70.207.3, ...\n",
      "Connecting to s21.q4cdn.com (s21.q4cdn.com)|68.70.207.2|:443... connected.\n",
      "HTTP request sent, awaiting response... 200 OK\n",
      "Length: 195613 (191K) [application/pdf]\n",
      "Saving to: ‘./annual-reports/meta-2024.pdf’\n",
      "\n",
      "./annual-reports/me 100%[===================>] 191.03K  --.-KB/s    in 0.04s   \n",
      "\n",
      "2025-01-11 16:03:07 (4.16 MB/s) - ‘./annual-reports/meta-2024.pdf’ saved [195613/195613]\n",
      "\n"
     ]
    }
   ],
   "source": [
    "!mkdir -p './annual-reports'\n",
    "# !wget 'https://s2.q4cdn.com/470004039/files/doc_earnings/2024/q4/filing/10-Q4-2024-As-Filed.pdf' -O './annual-reports/dsk-Q4.pdf'\n",
    "!wget 'https://s21.q4cdn.com/399680738/files/doc_news/Meta-Reports-Second-Quarter-2024-Results-2024.pdf' -O './annual-reports/meta-2024.pdf'"
   ]
  },
  {
   "cell_type": "code",
   "execution_count": 2,
   "metadata": {},
   "outputs": [],
   "source": [
    "import os\n",
    "\n",
    "os.environ['UNSTRUCTURED_API_KEY'] = 'Z7XDM1JJUs9w78saUYwHiAhj7ZVVnX'\n",
    "os.environ['UNSTRUCTURED_API_URL'] = 'https://api.unstructured.io/general/v0/general'"
   ]
  },
  {
   "cell_type": "code",
   "execution_count": 3,
   "metadata": {},
   "outputs": [
    {
     "data": {
      "text/plain": [
       "('Z7XDM1JJUs9w78saUYwHiAhj7ZVVnX',\n",
       " 'https://api.unstructured.io/general/v0/general')"
      ]
     },
     "execution_count": 3,
     "metadata": {},
     "output_type": "execute_result"
    }
   ],
   "source": [
    "os.getenv('UNSTRUCTURED_API_KEY'), os.getenv('UNSTRUCTURED_API_URL')"
   ]
  },
  {
   "cell_type": "code",
   "execution_count": 38,
   "metadata": {},
   "outputs": [],
   "source": [
    "# Parse unstructured data via api, limit of 1000 pages per month\n",
    "import os\n",
    "\n",
    "from unstructured_ingest.v2.pipeline.pipeline import Pipeline\n",
    "from unstructured_ingest.v2.interfaces import ProcessorConfig\n",
    "from unstructured_ingest.v2.processes.connectors.local import (\n",
    "    LocalIndexerConfig,\n",
    "    LocalDownloaderConfig,\n",
    "    LocalConnectionConfig,\n",
    "    LocalUploaderConfig\n",
    ")\n",
    "from unstructured_ingest.v2.processes.partitioner import PartitionerConfig\n",
    "\n",
    "FILENAME = 'meta-2024.pdf'\n",
    "INPUT_PATH = './annual-reports/' + FILENAME\n",
    "OUTPUT_PATH = './parsed_data/'\n",
    "\n",
    "if FILENAME + '.json' not in os.listdir(OUTPUT_PATH):\n",
    "    Pipeline.from_configs(\n",
    "            context=ProcessorConfig(),\n",
    "            indexer_config=LocalIndexerConfig(input_path=INPUT_PATH),\n",
    "            downloader_config=LocalDownloaderConfig(),\n",
    "            source_connection_config=LocalConnectionConfig(),\n",
    "            partitioner_config=PartitionerConfig(\n",
    "                partition_by_api=True,\n",
    "                api_key=os.getenv(\"UNSTRUCTURED_API_KEY\"),\n",
    "                partition_endpoint=os.getenv(\"UNSTRUCTURED_API_URL\"),\n",
    "                strategy=\"hi_res\",\n",
    "                additional_partition_args={\n",
    "                    \"split_pdf_page\": True,\n",
    "                    \"split_pdf_allow_failed\": True,\n",
    "                    \"split_pdf_concurrency_level\": 15\n",
    "                }\n",
    "            ),\n",
    "            uploader_config=LocalUploaderConfig(output_dir=OUTPUT_PATH)\n",
    "        ).run()"
   ]
  },
  {
   "cell_type": "code",
   "execution_count": 7,
   "metadata": {},
   "outputs": [
    {
     "data": {
      "text/plain": [
       "Counter({'NarrativeText': 58, 'Title': 19, 'Table': 11})"
      ]
     },
     "metadata": {},
     "output_type": "display_data"
    }
   ],
   "source": [
    "from collections import Counter\n",
    "import json\n",
    "with open(os.path.join(OUTPUT_PATH, 'meta-2024.pdf.json'), 'r') as f:\n",
    "    elements = json.load(f)\n",
    "\n",
    "display(Counter(element.get('type') for element in elements))"
   ]
  },
  {
   "cell_type": "code",
   "execution_count": 22,
   "metadata": {},
   "outputs": [
    {
     "name": "stdout",
     "output_type": "stream",
     "text": [
      "Three Months Ended June 30, In millions, except percentages and per share amounts 2024 2023 % Change Revenue $ 39,071 $ 31,999 22 % Costs and expenses 24,224 22,607 7 % Income from operations $ 14,847 $ 9,392 58 % Operating margin 38 % 29 % Provision for income taxes $ 1,641 $ 1,505 9 % Effective tax rate 11 % 16 % Net income $ 13,465 $ 7,788 73 % Diluted earnings per share (EPS) $ 5.16 $ 2.98 73 %\n",
      "Three Months Ended June 30, Six Months Ended June 30, 2024 2023 2024 2023 Revenue $ 39,071 $ 31,999 $ 75,527 $ 60,645 Costs and expenses: Cost of revenue 7,308 5,945 13,948 12,054 Research and development 10,537 9,344 20,515 18,725 Marketing and sales 2,721 3,154 5,285 6,198 General and administrative (1) 3,658 4,164 7,114 7,049 Total costs and expenses 24,224 22,607 46,862 44,026 Income from operations 14,847 9,392 28,665 16,619 Interest and other income (expense), net 259 (99) 624 (19) Income before provision for income taxes 15,106 9,293 29,289 16,600 Provision for income taxes 1,641 1,505 3,455 3,102 Net income $ 13,465 $ 7,788 $ 25,834 $ 13,498\n",
      "Earnings per share: Basic $ 5.31 $ 3.03 $ 10.17 $ 5.24 Diluted $ 5.16 $ 2.98 $ 9.86 $ 5.18 Weighted-average shares used to compute earnings per share: Basic 2,534 2,568 2,540 2,577 Diluted 2,610 2,612 2,619 2,604\n",
      "June 30, 2024 December 31, 2023 Assets Current assets: Cash and cash equivalents $ 32,045 $ 41,862 Marketable securities 26,035 23,541 Accounts receivable, net 14,505 16,169 Prepaid expenses and other current assets 3,846 3,793 Total current assets 76,431 85,365 Non-marketable equity securities 6,207 6,141 Property and equipment, net 102,959 96,587 Operating lease right-of-use assets 14,058 13,294 Goodwill 20,654 20,654 Other assets 9,929 7,582 Total assets $ 230,238 $ 229,623 Liabilities and stockholders' equity Current liabilities: Accounts payable $ 3,173 $ 4,849 Operating lease liabilities, current 1,917 1,623 Accrued expenses and other current liabilities 21,914 25,488 Total current liabilities 27,004 31,960 Operating lease liabilities, non-current 17,685 17,226 Long-term debt 18,389 18,385 Long-term income taxes 7,897 7,514 Other liabilities 2,500 1,370 Total liabilities 73,475 76,455 Commitments and contingencies Stockholders' equity: Common stock and additional paid-in capital 78,270 73,253\n",
      "Accumulated other comprehensive loss (2,695) (2,155) Retained earnings 81,188 82,070 Total stockholders' equity 156,763 153,168 Total liabilities and stockholders' equity $ 230,238 $ 229,623\n",
      "Three Months Ended June 30, Six Months Ended June 30, 2024 2023 2024 2023 Cash flows from operating activities Net income $ 13,465 $ 7,788 $ 25,834 $ 13,498 Adjustments to reconcile net income to net cash provided by operating activities: Depreciation and amortization 3,637 2,623 7,011 5,147 Share-based compensation 4,616 4,060 8,178 7,111 Deferred income taxes (1,643) (1,137) (2,098) (1,757) Impairment charges for facilities consolidation, net 41 232 280 1,002 Other (6) 212 (71) 204 Changes in assets and liabilities: Accounts receivable (1,171) (1,424) 1,350 1,122 Prepaid expenses and other current assets (84) (54) 16 767 Other assets 54 37 (41) 67 Accounts payable 250 (51) (862) (1,155) Accrued expenses and other current liabilities (497) 5,174 (1,771) 5,268 Other liabilities 708 (151) 790 33 Net cash provided by operating activities 19,370 17,309 38,616 31,307 Cash flows from investing activities Purchases of property and equipment, net (8,173) (6,134) (14,573) (12,957) Purchases of marketable debt securities (3,289) (717) (10,176) (803) Sales and maturities of marketable debt securities 3,233 1,816 7,858 2,351 Acquisitions of businesses and intangible assets (57) (83) (129) (527) Other investing activities (12) (85) (12) (10) Net cash used in investing activities (8,298) (5,203) (17,032) (11,946) Cash flows from financing activities Taxes paid related to net share settlement of equity awards (3,208) (1,692) (6,370) (2,701) Repurchases of Class A common stock (6,299) (898) (21,307) (10,263) Dividend payments (1,266) — (2,539) — Proceeds from issuance of long-term debt, net — 8,455 — 8,455 Principal payments on finance leases (299) (220) (614) (484) Other financing activities (106) (353) (115) (231) Net cash provided by (used in) financing activities (11,178) 5,292 (30,945) (5,224) Effect of exchange rate changes on cash, cash equivalents, and restricted cash (152) (14) (440) 71 Net increase (decrease) in cash, cash equivalents, and restricted cash (258) 17,384 (9,801) 14,208 Cash, cash equivalents, and restricted cash at beginning of the period 33,284 12,420 42,827 15,596 Cash, cash equivalents, and restricted cash at end of the period $ 33,026 $ 29,804 $ 33,026 $ 29,804\n",
      "Reconciliation of cash, cash equivalents, and restricted cash to the condensed consolidated balance sheets Cash and cash equivalents $ 32,045 $ 28,785 $ 32,045 $ 28,785 Restricted cash, included in prepaid expenses and other current assets 100 165 100 165 Restricted cash, included in other assets 881 854 881 854 Total cash, cash equivalents, and restricted cash $ 33,026 $ 29,804 $ 33,026 $ 29,804\n",
      "Three Months Ended June 30, Six Months Ended June 30, 2024 2023 2024 2023 Supplemental cash flow data Cash paid for income taxes, net $ 5,929 $ 1,102 $ 6,559 $ 1,507 Cash paid for interest, net of amounts capitalized $ 124 $ — $ 245 $ 182 Non-cash investing and financing activities: Property and equipment in accounts payable and accrued expenses and other current liabilities $ 3,229 $ 3,845 $ 3,229 $ 3,845 Acquisition of businesses and intangible assets in accrued expenses and other current liabilities and other liabilities $ 267 $ 217 $ 267 $ 217\n",
      "Three Months Ended June 30, Six Months Ended June 30, 2024 2023 2024 2023\n",
      "Advertising $ 38,329 $ 31,498 $ 73,965 $ 59,599 Other revenue 389 225 769 430 Family of Apps 38,718 31,723 74,734 60,029 Reality Labs 353 276 793 616 Total revenue $ 39,071 $ 31,999 $ 75,527 $ 60,645 Income (loss) from operations: Family of Apps $ 19,335 $ 13,131 $ 36,999 $ 24,351 Reality Labs (4,488) (3,739) (8,334) (7,732) Total income from operations $ 14,847 $ 9,392 $ 28,665 $ 16,619\n",
      "Three Months Ended June 30, Six Months Ended June 30, 2024 2023 2024 2023 GAAP revenue $ 39,071 $ 31,999 $ 75,527 $ 60,645 Foreign exchange effect on 2024 revenue using 2023 rates 371 265 Revenue excluding foreign exchange effect $ 39,442 $ 75,792 GAAP revenue year-over-year change % 22 % 25 % Revenue excluding foreign exchange effect year-over-year change % 23 % 25 % GAAP advertising revenue $ 38,329 $ 31,498 $ 73,965 $ 59,599 Foreign exchange effect on 2024 advertising revenue using 2023 rates 367 261 Advertising revenue excluding foreign exchange effect $ 38,696 $ 74,226 GAAP advertising revenue year-over-year change % 22 % 24 % Advertising revenue excluding foreign exchange effect year-over-year change % 23 % 25 % Net cash provided by operating activities $ 19,370 $ 17,309 $ 38,616 $ 31,307 Purchases of property and equipment, net (8,173) (6,134) (14,573) (12,957) Principal payments on finance leases (299) (220) (614) (484) Free cash flow $ 10,898 $ 10,955 $ 23,429 $ 17,866\n"
     ]
    }
   ],
   "source": [
    "for element in elements:\n",
    "  if element['type'] == 'Table':\n",
    "    print(element.get('text', ''))"
   ]
  },
  {
   "cell_type": "code",
   "execution_count": 32,
   "metadata": {},
   "outputs": [
    {
     "name": "stderr",
     "output_type": "stream",
     "text": [
      "  0%|          | 0/88 [00:00<?, ?it/s]INFO: HTTP Request: POST https://api.openai.com/v1/chat/completions \"HTTP/1.1 200 OK\"\n",
      "  8%|▊         | 7/88 [00:09<01:44,  1.29s/it]"
     ]
    },
    {
     "name": "stdout",
     "output_type": "stream",
     "text": [
      "### Detailed Description of the Table\n",
      "\n",
      "The table provides a summary of Meta Platforms, Inc.'s financial performance for the second quarter ending June 30, 2024, compared to the same period in 2023. \n",
      "\n",
      "- **Revenue**: The company reported a revenue of $39.071 billion in Q2 2024, which is a 22% increase from the $31.999 billion reported in Q2 2023.\n",
      "- **Costs and Expenses**: Total costs and expenses rose by 7%, from $22.607 billion in Q2 2023 to $24.224 billion in Q2 2024.\n",
      "- **Income from Operations**: Income from operations saw a significant increase of 58%, climbing from $9.392 billion in 2023 to $14.847 billion in 2024.\n",
      "- **Operating Margin**: The operating margin increased from 29% in Q2 2023 to 38% in Q2 2024.\n",
      "- **Provision for Income Taxes**: The provision for income taxes increased by 9%, from $1.505 billion in 2023 to $1.641 billion in 2024.\n",
      "- **Effective Tax Rate**: The effective tax rate lowered from 16% in 2023 to 11% in 2024.\n",
      "- **Net Income**: Net income nearly doubled, increasing by 73%, from $7.788 billion to $13.465 billion.\n",
      "- **Diluted Earnings Per Share (EPS)**: EPS also rose by 73%, from $2.98 in Q2 2023 to $5.16 in Q2 2024.\n",
      "\n",
      "Overall, the table highlights strong financial performance with substantial increases in revenue, net income, and earnings per share, alongside improved operating margins and a reduced effective tax rate.\n",
      "\n",
      "### Table in Markdown Format\n",
      "\n",
      "```markdown\n",
      "| Three Months Ended June 30, | In millions, except percentages and per share amounts | 2024    | 2023  | % Change |\n",
      "|-----------------------------|-------------------------------------------------------|---------|-------|----------|\n",
      "| **Revenue**                 |                                                       | $39,071 | $31,999 | 22%      |\n",
      "| **Costs and expenses**      |                                                       | $24,224 | $22,607 | 7%       |\n",
      "| **Income from operations**  |                                                       | $14,847 | $9,392  | 58%      |\n",
      "| **Operating margin**        |                                                       | 38%     | 29%    |          |\n",
      "| **Provision for income taxes** |                                                   | $1,641  | $1,505  | 9%       |\n",
      "| **Effective tax rate**      |                                                       | 11%     | 16%    |          |\n",
      "| **Net income**              |                                                       | $13,465 | $7,788  | 73%      |\n",
      "| **Diluted earnings per share (EPS)** |                                              | $5.16   | $2.98  | 73%      |\n",
      "```\n"
     ]
    },
    {
     "name": "stderr",
     "output_type": "stream",
     "text": [
      "INFO: HTTP Request: POST https://api.openai.com/v1/chat/completions \"HTTP/1.1 200 OK\"\n",
      " 62%|██████▎   | 55/88 [00:22<00:12,  2.72it/s]"
     ]
    },
    {
     "name": "stdout",
     "output_type": "stream",
     "text": [
      "### Description of the Table\n",
      "\n",
      "The table presents Meta Platforms, Inc.'s condensed consolidated statements of income for the second quarter, as well as the first half of the fiscal year 2024, compared to the same periods in 2023. The financial figures are in millions of dollars, except for per-share amounts. The table illustrates several key financial data points:\n",
      "\n",
      "- **Revenue:** Total revenue increased significantly, reaching $39,071 million for the three months ended June 30, 2024, compared to $31,999 million in 2023. For the six-month period, revenue grew from $60,645 million in 2023 to $75,527 million in 2024.\n",
      "\n",
      "- **Costs and Expenses:** These are divided into cost of revenue, research and development, marketing and sales, and general and administrative expenses. Each category shows the expenditures for both quarters and six-month periods across 2023 and 2024. Notably, research and development saw a noticeable increase, reflecting Meta’s investment in new technologies.\n",
      "\n",
      "- **Income from Operations:** This metric indicates the profitability from business operations before taxes and other expenses. Meta realized a significant increase, reporting $14,847 million for Q2 2024, up from $9,392 million in the previous year.\n",
      "\n",
      "- **Interest and Other Income (Expense), Net:** Indicates the income generated or expense incurred from non-operating activities, showing a turnaround from a $99 million expense in Q2 2023 to a $259 million income in Q2 2024.\n",
      "\n",
      "- **Income Before and Provision for Income Taxes:** Represents earnings before tax and the provision set aside to meet tax obligations. Both increased year-over-year for both quarterly and semi-annual periods.\n",
      "\n",
      "- **Net Income:** Meta’s net income more than doubled year-over-year for the three-month period, jumping from $7,788 million in Q2 2023 to $13,465 million in Q2 2024. The six-month figures also show a significant rise.\n",
      "\n",
      "### Markdown Table\n",
      "\n",
      "```markdown\n",
      "### Meta Platforms, Inc. Condensed Consolidated Statements of Income\n",
      "#### (In millions, unaudited)\n",
      "\n",
      "|                        | Three Months Ended June 30, | Six Months Ended June 30, |\n",
      "|------------------------|----------------------------|---------------------------|\n",
      "|                        | 2024        | 2023        | 2024        | 2023       |\n",
      "| **Revenue**            | $39,071     | $31,999     | $75,527     | $60,645    |\n",
      "| **Costs and expenses:**|             |             |             |            |\n",
      "| Cost of revenue        |   7,308     |   5,945     |  13,948     |  12,054    |\n",
      "| Research and development|  10,537    |   9,344     |  20,515     |  18,725    |\n",
      "| Marketing and sales    |   2,721     |   3,154     |   5,285     |   6,198    |\n",
      "| General and administrative(1) |  3,658  |   4,164     |   7,114     |   7,049    |\n",
      "| Total costs and expenses| 24,224     |  22,607     |  46,862     |  44,026    |\n",
      "| **Income from operations** | 14,847  |   9,392     |  28,665     |  16,619    |\n",
      "| Interest and other income (expense), net | 259 | (99) | 624 | (19) |\n",
      "| **Income before provision for income taxes** | 15,106 | 9,293 | 29,289 | 16,600 |\n",
      "| Provision for income taxes | 1,641   |   1,505     |   3,455     |   3,102    |\n",
      "| **Net income**         | $13,465    |  $7,788     | $25,834     | $13,498    |\n",
      "\n",
      "Note: (1) General and administrative expenses for Q2 2024 include a charge related to a settlement with the State of Texas.\n",
      "```\n",
      "\n",
      "This structured presentation provides insight into the financial health and operational efficiency of Meta Platforms during the comparative periods. Key metrics indicate robust growth and effective cost management strategies contributing to increased net income.\n"
     ]
    },
    {
     "name": "stderr",
     "output_type": "stream",
     "text": [
      "INFO: HTTP Request: POST https://api.openai.com/v1/chat/completions \"HTTP/1.1 200 OK\"\n",
      " 64%|██████▎   | 56/88 [00:29<00:17,  1.86it/s]"
     ]
    },
    {
     "name": "stdout",
     "output_type": "stream",
     "text": [
      "### Comprehensive Description of the Table\n",
      "\n",
      "This table presents the earnings per share (EPS) details and the number of weighted-average shares used for computing EPS for Meta Platforms, Inc., corresponding to the three months and six months ended June 30 for the years 2024 and 2023. The EPS values are provided for both basic and diluted formats, with calculations based on the number of weighted-average shares (basic and diluted) for each period.\n",
      "\n",
      "**Key Metrics Explained:**\n",
      "\n",
      "- **Earnings per Share (EPS):**\n",
      "  - **Basic EPS** is determined by dividing the company's net income by the simple weighted-average number of outstanding shares during the period, excluding potential dilution from conversion or option exercises.\n",
      "  - **Diluted EPS** accounts for potential dilution by including additional shares that could be created through conversions or the exercise of options.\n",
      "\n",
      "- **Weighted-Average Shares:**\n",
      "  - **Basic** indicates the average number of shares actually outstanding during the period.\n",
      "  - **Diluted** reflects the potential number of shares outstanding, assuming that options or conversion rights, such as convertible preferred stocks, were exercised.\n",
      "\n",
      "The table provides insight into the per-share profitability of Meta Platforms, Inc., indicating changes year-over-year and underscoring the company's financial performance over the specified periods. Comparing these metrics across years shows substantial growth in both basic and diluted EPS for the periods reported, reflective of the company's financial standing and operational performance.\n",
      "\n",
      "### Table in Markdown Format\n",
      "\n",
      "```markdown\n",
      "|                       | Three Months Ended June 30, | Six Months Ended June 30, |\n",
      "|-----------------------|-----------------------------|---------------------------|\n",
      "|                       | 2024  | 2023  | 2024  | 2023  |\n",
      "| Earnings per share:   |       |       |       |       |\n",
      "| Basic                 | $5.31 | $3.03 | $10.17| $5.24 |\n",
      "| Diluted               | $5.16 | $2.98 | $9.86 | $5.18 |\n",
      "|                       |       |       |       |       |\n",
      "| Weighted-average shares used to compute earnings per share: | | | |\n",
      "| Basic                 | 2,534 | 2,568 | 2,540 | 2,577 |\n",
      "| Diluted               | 2,610 | 2,612 | 2,619 | 2,604 |\n",
      "```\n",
      "\n",
      "This markdown table effectively captures and formats the key financial metrics related to earnings per share and share count for easy readability and comprehension.\n"
     ]
    },
    {
     "name": "stderr",
     "output_type": "stream",
     "text": [
      "INFO: HTTP Request: POST https://api.openai.com/v1/chat/completions \"HTTP/1.1 200 OK\"\n",
      " 69%|██████▉   | 61/88 [00:45<00:26,  1.01it/s]"
     ]
    },
    {
     "name": "stdout",
     "output_type": "stream",
     "text": [
      "### Comprehensive Description of the Table\n",
      "\n",
      "The provided table is a condensed consolidated balance sheet for Meta Platforms, Inc., reflecting the company's financial position as of June 30, 2024, and December 31, 2023. The balance sheet is divided into two main sections: Assets, and Liabilities and Stockholders' Equity.\n",
      "\n",
      "**Assets:**\n",
      "\n",
      "1. **Current Assets:** This category includes assets that are expected to be converted into cash or used within one year. As of June 30, 2024, they include:\n",
      "   - Cash and cash equivalents: $32,045 million, which represents the liquid assets Meta has on hand.\n",
      "   - Marketable securities: $26,035 million, indicating short-term investments that can be easily sold.\n",
      "   - Accounts receivable, net: $14,505 million, which is the amount due from customers.\n",
      "   - Prepaid expenses and other current assets: $3,846 million, which includes prepaid expenses and other small current assets.\n",
      "   - Total current assets: $76,431 million, a decrease from $85,365 million on December 31, 2023.\n",
      "\n",
      "2. **Non-Current Assets:**\n",
      "   - Non-marketable equity securities: $6,207 million, investments held by Meta that are not publicly traded.\n",
      "   - Property and equipment, net: $102,959 million, representing the net value of Meta’s tangible fixed assets after depreciation.\n",
      "   - Operating lease right-of-use assets: $14,058 million, which are the rights to use leased assets.\n",
      "   - Goodwill: $20,654 million, an intangible asset that provides value from business acquisitions.\n",
      "   - Other assets: $9,929 million, including long-term investments and other unspecified items.\n",
      "   - Total assets: $230,238 million, slightly up from $229,623 million as of December 31, 2023.\n",
      "\n",
      "**Liabilities and Stockholders' Equity:**\n",
      "\n",
      "1. **Current Liabilities:** Obligations expected to be settled within the next year, including:\n",
      "   - Accounts payable: $3,173 million, which are short-term obligations to creditors.\n",
      "   - Operating lease liabilities, current: $1,917 million, liabilities under lease agreements due within one year.\n",
      "   - Accrued expenses and other current liabilities: $21,914 million, consisting of various accrued obligations.\n",
      "   - Total current liabilities: $27,004 million, down from $31,960 million at the end of 2023.\n",
      "\n",
      "2. **Non-Current Liabilities:**\n",
      "   - Operating lease liabilities, non-current: $17,685 million, long-term lease obligations.\n",
      "   - Long-term debt: $18,389 million, indicating long-term borrowed funds.\n",
      "   - Long-term income taxes: $7,897 million, representing deferred tax liabilities.\n",
      "   - Other liabilities: $2,500 million, unspecified long-term obligations.\n",
      "   - Total liabilities: $73,475 million, decreased from $76,455 million as of December 31, 2023.\n",
      "\n",
      "3. **Stockholders' Equity:** Reflects the residual interest in the assets of Meta after deducting liabilities, including:\n",
      "   - Common stock and additional paid-in capital: $78,270 million, which represents the investment from shareholders.\n",
      "   - Accumulated other comprehensive loss: negative $2,695 million, representing losses not included in net income.\n",
      "   - Retained earnings: $81,188 million, indicating the accumulated profit retained in the company.\n",
      "   - Total stockholders' equity: $156,763 million, an increase from $153,168 million at the end of 2023.\n",
      "\n",
      "**Summary:** This balance sheet highlights Meta's financial standing as of the specified dates, showing a decrease in current assets but an overall slight increase in total assets, while liabilities have also slightly decreased, leading to an increase in stockholders' equity.\n",
      "\n",
      "### Markdown Format of the Table\n",
      "\n",
      "```markdown\n",
      "|                                  | June 30, 2024 | December 31, 2023 |\n",
      "|----------------------------------|--------------:|-------------------:|\n",
      "| **Assets**                       |               |                    |\n",
      "| **Current assets:**              |               |                    |\n",
      "| Cash and cash equivalents        | $32,045       | $41,862            |\n",
      "| Marketable securities            | $26,035       | $23,541            |\n",
      "| Accounts receivable, net         | $14,505       | $16,169            |\n",
      "| Prepaid expenses and other       | $3,846        | $3,793             |\n",
      "| Total current assets             | $76,431       | $85,365            |\n",
      "| **Non-current assets:**          |               |                    |\n",
      "| Non-marketable equity securities | $6,207        | $6,141             |\n",
      "| Property and equipment, net      | $102,959      | $96,587            |\n",
      "| Operating lease right-of-use assets | $14,058   | $13,294            |\n",
      "| Goodwill                         | $20,654       | $20,654            |\n",
      "| Other assets                     | $9,929        | $7,582             |\n",
      "| Total assets                     | $230,238      | $229,623           |\n",
      "| **Liabilities and stockholders' equity** |        |                    |\n",
      "| **Current liabilities:**         |               |                    |\n",
      "| Accounts payable                 | $3,173        | $4,849             |\n",
      "| Operating lease liabilities, current | $1,917   | $1,623             |\n",
      "| Accrued expenses and other current liabilities | $21,914 | $25,488   |\n",
      "| Total current liabilities        | $27,004       | $31,960            |\n",
      "| **Non-current liabilities:**     |               |                    |\n",
      "| Operating lease liabilities, non-current | $17,685 | $17,226         |\n",
      "| Long-term debt                   | $18,389       | $18,385            |\n",
      "| Long-term income taxes           | $7,897        | $7,514             |\n",
      "| Other liabilities                | $2,500        | $1,370             |\n",
      "| Total liabilities                | $73,475       | $76,455            |\n",
      "| **Stockholders' equity:**        |               |                    |\n",
      "| Common stock and additional paid-in capital | $78,270 | $73,253     |\n",
      "| Accumulated other comprehensive loss | $(2,695)   | $(2,155)          |\n",
      "| Retained earnings                | $81,188       | $82,070            |\n",
      "| Total stockholders' equity       | $156,763      | $153,168           |\n",
      "| Total liabilities and stockholders' equity | $230,238 | $229,623     |\n",
      "```\n",
      "\n"
     ]
    },
    {
     "name": "stderr",
     "output_type": "stream",
     "text": [
      "INFO: HTTP Request: POST https://api.openai.com/v1/chat/completions \"HTTP/1.1 200 OK\"\n",
      " 70%|███████   | 62/88 [00:54<00:34,  1.31s/it]"
     ]
    },
    {
     "name": "stdout",
     "output_type": "stream",
     "text": [
      "### Description of the Table\n",
      "\n",
      "The table titled \"META PLATFORMS, INC. Condensed Consolidated Balance Sheets\" provides an overview of Meta Platforms, Inc.'s financial position at two points in time: June 30, 2024, and December 31, 2023. This table is part of the financial statement that highlights the assets, liabilities, and stockholders' equity of the company. Here is a detailed explanation of the table's components:\n",
      "\n",
      "1. **Accumulated Other Comprehensive Loss**: This represents the cumulative loss associated with items that are not included in net income but are instead reflected directly in equity. At June 30, 2024, this amount is -$2,695 million, compared to -$2,155 million on December 31, 2023, indicating an increase in comprehensive loss over this period.\n",
      "\n",
      "2. **Retained Earnings**: This line represents the portion of net income not distributed as dividends and retained by the company to reinvest in its core business or settle debts. As of June 30, 2024, the retained earnings amount to $81,188 million, which has slightly decreased from $82,070 million as of December 31, 2023.\n",
      "\n",
      "3. **Total Stockholders' Equity**: This is the amount of equity financing that comes from stockholders. As of June 30, 2024, Total stockholders' equity stands at $156,763 million, which has increased from $153,168 million recorded on December 31, 2023, indicating a growth in the equity portion of the balance sheet.\n",
      "\n",
      "4. **Total Liabilities and Stockholders' Equity**: This is a summary figure that totals all liabilities and stockholders' equity, representing the company's total financial position. The figure as of June 30, 2024, is $230,238 million, compared to $229,623 million as of the end of 2023. This indicates a slight increase in the overall balance.\n",
      "\n",
      "The table succinctly details changes in these key financial metrics over the six-month period, capturing the company's financial health and operational outcomes.\n",
      "\n",
      "### Table in Markdown Format\n",
      "\n",
      "```markdown\n",
      "| Item                             | June 30, 2024 (in millions) | December 31, 2023 (in millions) |\n",
      "|----------------------------------|----------------------------|--------------------------------|\n",
      "| Accumulated Other Comprehensive Loss | ($2,695)                   | ($2,155)                        |\n",
      "| Retained Earnings                | $81,188                    | $82,070                        |\n",
      "| Total Stockholders' Equity       | $156,763                   | $153,168                       |\n",
      "| Total Liabilities and Stockholders' Equity | $230,238                   | $229,623                       |\n",
      "```\n",
      "\n",
      "This markdown table provides a clear snapshot of some essential components of Meta Platforms' balance sheet, highlighting changes in comprehensive income, retained earnings, and overall equity over the two periods mentioned.\n"
     ]
    },
    {
     "name": "stderr",
     "output_type": "stream",
     "text": [
      "INFO: HTTP Request: POST https://api.openai.com/v1/chat/completions \"HTTP/1.1 200 OK\"\n",
      " 75%|███████▌  | 66/88 [01:17<00:48,  2.18s/it]"
     ]
    },
    {
     "name": "stdout",
     "output_type": "stream",
     "text": [
      "## Table Description\n",
      "\n",
      "This table is a part of Meta Platforms, Inc.'s financial disclosure for the second quarter of 2024, providing a detailed breakdown of cash flows from operating, investing, and financing activities for the three months and six months ended June 30, 2024, and comparative figures for the same periods in 2023. This comprehensive cash flow statement highlights Meta's ability to generate cash from its operations, how it allocates that cash for investment and financing activities, and the net impact on its cash position over the period.\n",
      "\n",
      "### Key Sections of the Table:\n",
      "\n",
      "1. **Cash Flows from Operating Activities:**\n",
      "   - This section details the adjustments made to net income to reconcile it to net cash provided by operating activities. Key adjustments include depreciation and amortization, share-based compensation, deferred income taxes, and changes in working capital components such as accounts receivable, prepaid expenses, and liabilities.\n",
      "\n",
      "2. **Cash Flows from Investing Activities:**\n",
      "   - This outlines the cash used for or generated by investment activities. Notable entries include purchases and sales of property and equipment, marketable debt securities, and acquisitions of businesses and intangible assets. The table shows the significant investment Meta is making in property and equipment, evident by its substantial expenditures in this category.\n",
      "\n",
      "3. **Cash Flows from Financing Activities:**\n",
      "   - This segment lists cash flows related to capital structure activities such as taxes paid on equity awards, repurchases of Class A common stock, dividend payments, and proceeds from long-term debt issuance. This section reflects a large outflow due to share repurchases and dividend payments.\n",
      "\n",
      "4. **Effect of Exchange Rate Changes:**\n",
      "   - Reflects the impact of currency exchange rate fluctuations on Meta’s cash and cash equivalents.\n",
      "\n",
      "5. **Net Increase (Decrease) in Cash, Cash Equivalents, and Restricted Cash:**\n",
      "   - This provides the net change in Meta’s cash position over the reporting periods, bridging the starting and ending cash balances.\n",
      "\n",
      "6. **Cash Position:**\n",
      "   - The table concludes with the start and end balances for cash, cash equivalents, and restricted cash for the periods under review.\n",
      "\n",
      "Overall, this table provides a clear and detailed view of Meta's cash management strategies, revealing how operational cash flow is utilized across investment and financing endeavors, and the resultant position in terms of liquidity.\n",
      "\n",
      "## Table in Markdown Format\n",
      "\n",
      "```markdown\n",
      "## Meta Platforms, Inc. Condensed Consolidated Statements of Cash Flows\n",
      "(In millions, Unaudited)\n",
      "\n",
      "|                                      | Three Months Ended June 30, | Six Months Ended June 30, |\n",
      "|--------------------------------------|-----------------------------|----------------------------|\n",
      "|                                      | 2024       | 2023      | 2024      | 2023      |\n",
      "| **Cash flows from operating activities** |            |           |           |           |\n",
      "| Net income                           | $13,465    | $7,788    | $25,834   | $13,498   |\n",
      "| Depreciation and amortization        | 3,637      | 2,623     | 7,011     | 5,147     |\n",
      "| Share-based compensation             | 4,616      | 4,060     | 8,178     | 7,111     |\n",
      "| Deferred income taxes                | (1,643)    | (1,137)   | (2,098)   | (1,757)   |\n",
      "| Impairment charges for facilities    | 41         | 232       | 280       | 1,002     |\n",
      "| Other                                | (6)        | 212       | (71)      | 204       |\n",
      "| Changes in assets and liabilities:   |            |           |           |           |\n",
      "| Accounts receivable                  | (1,171)    | (1,424)   | 1,350     | 1,122     |\n",
      "| Prepaid expenses and other assets    | (84)       | (54)      | 16        | 767       |\n",
      "| Other assets                         | 54         | 37        | (41)      | 67        |\n",
      "| Accounts payable                     | 250        | (51)      | (862)     | (1,155)   |\n",
      "| Accrued expenses and other liabilities | (497)      | 5,174     | (1,771)   | 5,268     |\n",
      "| Other liabilities                    | 708        | (151)     | 790       | 33        |\n",
      "| **Net cash provided by operating activities** | 19,370     | 17,309    | 38,616    | 31,307    |\n",
      "| **Cash flows from investing activities** |            |           |           |           |\n",
      "| Purchases of property and equipment, net | (8,173)    | (6,134)   | (14,573)  | (12,957)  |\n",
      "| Purchases of marketable debt securities | (3,289)    | (717)     | (10,176)  | (803)     |\n",
      "| Sales and maturities of marketable securities | 3,233   | 1,816     | 7,858     | 2,351     |\n",
      "| Acquisitions of businesses and intangibles | (57)     | (83)      | (129)     | (527)     |\n",
      "| Other investing activities           | (12)       | (85)      | (12)      | (10)      |\n",
      "| **Net cash used in investing activities** | (8,298)    | (5,203)   | (17,032)  | (11,946)  |\n",
      "| **Cash flows from financing activities** |            |           |           |           |\n",
      "| Taxes paid on net share settlements  | (3,208)    | (1,692)   | (6,370)   | (2,701)   |\n",
      "| Repurchases of Class A common stock  | (6,299)    | (898)     | (21,307)  | (10,263)  |\n",
      "| Dividend payments                    | (1,266)    | —         | (2,539)   | —         |\n",
      "| Proceeds from long-term debt, net    | —          | 8,455     | —         | 8,455     |\n",
      "| Principal payments on finance leases | (299)      | (220)     | (614)     | (484)     |\n",
      "| Other financing activities           | (106)      | (353)     | (115)     | (231)     |\n",
      "| **Net cash provided by (used in) financing activities** | (11,178) | 5,292  | (30,945)  | (5,224)   |\n",
      "| Effect of exchange rate changes on cash | (152)     | (14)      | (440)     | 71        |\n",
      "| **Net increase (decrease) in cash, cash equivalents, and restricted cash** | (258) | 17,384 | (9,801)  | 14,208  |\n",
      "| Cash, cash equivalents, and restricted cash at beginning of period | 33,284 | 12,420    | 42,827    | 15,596   |\n",
      "| **Cash, cash equivalents, and restricted cash at end of period** | $33,026 | $29,804   | $33,026   | $29,804  |\n",
      "```\n",
      "\n"
     ]
    },
    {
     "name": "stderr",
     "output_type": "stream",
     "text": [
      "INFO: HTTP Request: POST https://api.openai.com/v1/chat/completions \"HTTP/1.1 200 OK\"\n",
      " 76%|███████▌  | 67/88 [01:24<00:53,  2.53s/it]"
     ]
    },
    {
     "name": "stdout",
     "output_type": "stream",
     "text": [
      "### Comprehensive Description of the Table\n",
      "\n",
      "The table titled \"Reconciliation of cash, cash equivalents, and restricted cash to the condensed consolidated balance sheets\" provides financial data about Meta Platforms, Inc.'s liquidity over specified periods, highlighting how the company's liquid and semi-liquid assets are reconciled on their balance sheets. Specifically, it outlines Meta's cash and cash equivalents, and restricted cash, distributed across various categories. This table spans two time periods for fiscal years ending in June 30, 2024, and 2023, and provides these details for year-to-date figures as well. Key components include:\n",
      "\n",
      "- **Cash and Cash Equivalents**: This represents the total amount of liquid cash and cash held by the company, ready for daily operational use. The table details that this value was $32,045 million as of June 30 for both 2024 and 2023.\n",
      "  \n",
      "- **Restricted Cash**: This category is split into two parts:\n",
      "  - **Restricted cash included in prepaid expenses and other current assets**: Represents funds that are restricted in terms of use due to being earmarked for specific purposes, such as security for certain financial obligations. Values were $100 million in 2024 and $165 million in 2023.\n",
      "  - **Restricted cash included in other assets**: This involves cash set aside for long-term obligations or investments, valued at $881 million in 2024 and $854 million in 2023.\n",
      "\n",
      "- **Total Cash, Cash Equivalents, and Restricted Cash**: The summation of the above items, providing a comprehensive view of all liquid assets accessible to the company. This totalled $33,026 million for both fiscal years reported on June 30.\n",
      "\n",
      "These figures are unaudited and provide a snapshot of the company's liquidity and cash management strategy. This information helps investors and stakeholders understand how much liquidity the company has at its disposal, including what is available for immediate use and what is set aside for specific strategic purposes.\n",
      "\n",
      "### Table in Markdown Format\n",
      "\n",
      "```markdown\n",
      "| Reconciliation of Specific Assets                       | 2024 ($ millions) | 2023 ($ millions) |\n",
      "|---------------------------------------------------------|-------------------|-------------------|\n",
      "| **Cash and Cash Equivalents**                           | 32,045            | 28,785            |\n",
      "| **Restricted Cash, included in prepaid expenses and other current assets** | 100              | 165               |\n",
      "| **Restricted Cash, included in other assets**           | 881               | 854               |\n",
      "| **Total Cash, Cash Equivalents, and Restricted Cash**   | 33,026            | 29,804            |\n",
      "```\n",
      "\n",
      "This table showcases the reconciliation of cash and cash holdings for Meta Platforms, Inc. over the specified periods, providing clarity on the company's liquidity and financial preparedness.\n"
     ]
    },
    {
     "name": "stderr",
     "output_type": "stream",
     "text": [
      "INFO: HTTP Request: POST https://api.openai.com/v1/chat/completions \"HTTP/1.1 200 OK\"\n",
      " 83%|████████▎ | 73/88 [01:35<00:33,  2.24s/it]"
     ]
    },
    {
     "name": "stdout",
     "output_type": "stream",
     "text": [
      "### Comprehensive Description of the Table\n",
      "\n",
      "The table presents supplemental cash flow data and details related to certain non-cash investing and financing activities for Meta Platforms, Inc. It compares figures from the first half (six months ended) and the second quarter (three months ended) of 2024 and 2023. Specifically, it includes:\n",
      "\n",
      "1. **Cash Paid for Income Taxes, Net:** \n",
      "   - This reflects the actual cash payments made for income taxes in a given period, highlighting a significant increase from 2023 to 2024.\n",
      "   - For the three months ended June 30, the cash paid was $5,929 million in 2024, up from $1,102 million in 2023.\n",
      "   - For the six months ended June 30, the amounts were $6,559 million in 2024 compared to $1,507 million in 2023.\n",
      "\n",
      "2. **Cash Paid for Interest, Net of Amounts Capitalized:**\n",
      "   - This represents the cash outflows for interest payments, excluding those amounts that were capitalized.\n",
      "   - For the three months ended June 30, the amount was $124 million in 2024, while there were no capitalized interest in 2023.\n",
      "   - For the six months ended June 30, the amount increased to $245 million in 2024 from $182 million in 2023.\n",
      "\n",
      "3. **Non-Cash Investing and Financing Activities:**\n",
      "   - This section illustrates the non-cash components, like liabilities related to property and equipment, and acquisition costs.\n",
      "   - **Property and Equipment:** Valued in accounts payable and accrued expenses. The amount remained steady at $3,229 million in 2024 and $3,845 million in 2023, for both the three and six months ended.\n",
      "   - **Acquisition of Businesses and Intangible Assets:** Listed in accrued expenses and other liabilities, showing $267 million in 2024 compared to $217 million in 2023, consistently for both three and six-month periods.\n",
      "\n",
      "The table highlights the changes in cash flow management strategies between the two years and provides insights into cash management, capital expenditure, and acquisition-related adjustments by Meta.\n",
      "\n",
      "### Table in Markdown Format\n",
      "\n",
      "```markdown\n",
      "|                               | Three Months Ended June 30, | Six Months Ended June 30, |\n",
      "|-------------------------------|-----------------------------|---------------------------|\n",
      "|                               | 2024     | 2023             | 2024     | 2023           |\n",
      "| Supplemental cash flow data   |          |                  |          |                |\n",
      "| Cash paid for income taxes, net | $5,929  | $1,102           | $6,559  | $1,507         |\n",
      "| Cash paid for interest, net of amounts capitalized | $124    | —                | $245    | $182           |\n",
      "| Non-cash investing and financing activities: |   |                  |          |                |\n",
      "| Property and equipment in accounts payable and accrued expenses and other current liabilities | $3,229  | $3,845           | $3,229  | $3,845         |\n",
      "| Acquisition of businesses and intangible assets in accrued expenses and other current liabilities and other liabilities | $267    | $217             | $267    | $217           |\n",
      "```\n",
      "\n",
      "This markdown table efficiently conveys the financial data points from the specified periods, providing a clear and understandable presentation of the supplemental cash flow information and related activities for Meta Platforms, Inc.\n"
     ]
    },
    {
     "name": "stderr",
     "output_type": "stream",
     "text": [
      "INFO: HTTP Request: POST https://api.openai.com/v1/chat/completions \"HTTP/1.1 200 OK\"\n",
      " 92%|█████████▏| 81/88 [01:46<00:13,  1.92s/it]"
     ]
    },
    {
     "name": "stdout",
     "output_type": "stream",
     "text": [
      "### Description of the Table\n",
      "\n",
      "The table presents condensed consolidated statements of income for Meta Platforms, Inc. for the three- and six-month periods ending June 30 for the years 2024 and 2023. It is a financial summary that provides key figures pertaining to revenue, costs and expenses, and net income. The table shows both quarterly and half-yearly comparisons for each line item, illustrating the financial performance of the company over these periods. Key components of the table include:\n",
      "\n",
      "1. **Revenue**: Indicating the total income generated from operational activities.\n",
      "2. **Costs and Expenses**: Includes distinct accounts such as cost of revenue, research and development, marketing and sales, and general and administrative expenses.\n",
      "3. **Income from Operations**: Reflecting the profit after operational costs have been deducted from total revenue.\n",
      "4. **Income before Provision for Income Taxes**: Calculated after accounting for interest and other income/expenses.\n",
      "5. **Provision for Income Taxes**: The amount set aside for income tax expenses.\n",
      "6. **Net Income**: The final profit after all expenses and taxes have been deducted, indicating the profitability of Meta.\n",
      "7. **Earnings per Share (EPS)**: Presented for both basic and diluted shares, offering insights into the earnings attributable to each share of common stock.\n",
      "8. **Weighted-Average Shares**: Used in calculating EPS, this indicates the average number of shares outstanding during the period.\n",
      "\n",
      "Overall, this table provides a clear snapshot of Meta’s financial health and performance, comparing current year results against those from the previous year.\n",
      "\n",
      "### Table in Markdown Format\n",
      "\n",
      "```markdown\n",
      "### META PLATFORMS, INC.\n",
      "#### CONDENSED CONSOLIDATED STATEMENTS OF INCOME\n",
      "(In millions, except per share amounts)\n",
      "\n",
      "|                             | Three Months Ended June 30, | Six Months Ended June 30, |\n",
      "|-----------------------------|-----------------------------|---------------------------|\n",
      "|                             | 2024      | 2023      | 2024      | 2023      |\n",
      "| **Revenue**                 | $39,071   | $31,999   | $75,527   | $60,645   |\n",
      "| **Costs and expenses:**     |           |           |           |           |\n",
      "| Cost of revenue             | 7,308     | 5,945     | 13,948    | 12,054    |\n",
      "| Research and development    | 10,537    | 9,344     | 20,515    | 18,725    |\n",
      "| Marketing and sales         | 2,721     | 3,154     | 5,285     | 6,198     |\n",
      "| General and administrative (1)| 3,658   | 4,164     | 7,114     | 7,049     |\n",
      "| **Total costs and expenses**| 24,224    | 22,607    | 46,862    | 44,026    |\n",
      "| **Income from operations**  | 14,847    | 9,392     | 28,665    | 16,619    |\n",
      "| Interest and other income (expense), net | 259    | (99)     | 624       | (19)     |\n",
      "| **Income before provision for income taxes** | 15,106 | 9,293 | 29,289   | 16,600   |\n",
      "| Provision for income taxes  | 1,641     | 1,505     | 3,455     | 3,102     |\n",
      "| **Net income**              | $13,465   | $7,788    | $25,834   | $13,498   |\n",
      "| **Earnings per share:**     |           |           |           |           |\n",
      "| Basic                       | $5.31     | $3.03     | $10.17    | $5.24     |\n",
      "| Diluted                     | $5.16     | $2.98     | $9.86     | $5.18     |\n",
      "| **Weighted-average shares used to compute earnings per share:** | | | | |\n",
      "| Basic                       | 2,534     | 2,568     | 2,540     | 2,577     |\n",
      "| Diluted                     | 2,610     | 2,612     | 2,619     | 2,604     |\n",
      "\n",
      "(1) The second quarter 2024 general and administrative expenses include a charge for the recent settlement with the State of Texas. The settlement amount is fully accrued as of June 30, 2024.\n",
      "```\n",
      "\n",
      "This markdown format maintains the hierarchical structure and provides a clean view of the financial data for readers.\n"
     ]
    },
    {
     "name": "stderr",
     "output_type": "stream",
     "text": [
      "INFO: HTTP Request: POST https://api.openai.com/v1/chat/completions \"HTTP/1.1 200 OK\"\n",
      " 93%|█████████▎| 82/88 [01:56<00:14,  2.44s/it]"
     ]
    },
    {
     "name": "stdout",
     "output_type": "stream",
     "text": [
      "### Description of the Table\n",
      "\n",
      "The table presents financial results for Meta Platforms, Inc. for the three and six months ended June 30, 2024, and June 30, 2023. The table is divided into revenue and income (loss) from operations across two main segments: Family of Apps and Reality Labs.\n",
      "\n",
      "- **Revenue Section**:\n",
      "  - **Advertising**: Shows the revenue generated from advertising activities, which increased from $31,498 million in Q2 2023 to $38,329 million in Q2 2024, and from $59,599 million for the six months ended June 30, 2023, to $73,965 million for the same period in 2024.\n",
      "  - **Other Revenue**: Includes revenue from sources other than advertising, which also increased year-over-year for both three-month and six-month periods.\n",
      "  - **Family of Apps**: Combines both advertising and other revenue related to Meta's suite of applications. The increase in revenue is noticeable from $31,723 million in Q2 2023 to $38,718 million in Q2 2024.\n",
      "  - **Reality Labs**: Accounts for revenue from virtual, augmented, and mixed reality products, showing an increase from $276 million in Q2 2023 to $353 million in Q2 2024.\n",
      "\n",
      "- **Income (Loss) from Operations Section**:\n",
      "  - **Family of Apps**: Displays the operating income from Meta's apps, where income increased from $13,131 million in Q2 2023 to $19,335 million in Q2 2024.\n",
      "  - **Reality Labs**: Reflects the operating loss from Meta's Reality Labs, with losses widening from $3,739 million in Q2 2023 to $4,488 million in Q2 2024.\n",
      "  - **Total Income from Operations**: Shows the net income from operations summing up both segments, indicating an increase from $9,392 million in Q2 2023 to $14,847 million in Q2 2024.\n",
      "\n",
      "### Table in Markdown Format\n",
      "\n",
      "```markdown\n",
      "|                                | Three Months Ended June 30 | Six Months Ended June 30 |\n",
      "|--------------------------------|----------------------------|--------------------------|\n",
      "|                                | 2024         | 2023         | 2024         | 2023       |\n",
      "|--------------------------------|--------------|--------------|--------------|------------|\n",
      "| **Revenue:**                   |              |              |              |            |\n",
      "| Advertising                    | $38,329      | $31,498      | $73,965      | $59,599    |\n",
      "| Other revenue                  | $389         | $225         | $769         | $430       |\n",
      "| **Family of Apps**             | $38,718      | $31,723      | $74,734      | $60,029    |\n",
      "| Reality Labs                   | $353         | $276         | $793         | $616       |\n",
      "| **Total revenue**              | $39,071      | $31,999      | $75,527      | $60,645    |\n",
      "|                                |              |              |              |            |\n",
      "| **Income (loss) from operations:** |           |              |              |            |\n",
      "| Family of Apps                 | $19,335      | $13,131      | $36,999      | $24,351    |\n",
      "| Reality Labs                   | ($4,488)     | ($3,739)     | ($8,334)     | ($7,732)   |\n",
      "| **Total income from operations** | $14,847    | $9,392       | $28,665      | $16,619    |\n",
      "```\n",
      "\n",
      "This markdown table effectively represents the data from the financial segments, comparing Meta's performance across two consecutive years.\n"
     ]
    },
    {
     "name": "stderr",
     "output_type": "stream",
     "text": [
      "INFO: HTTP Request: POST https://api.openai.com/v1/chat/completions \"HTTP/1.1 200 OK\"\n",
      "100%|██████████| 88/88 [02:09<00:00,  1.48s/it]"
     ]
    },
    {
     "name": "stdout",
     "output_type": "stream",
     "text": [
      "### Description of the Table\n",
      "\n",
      "The provided table details key financial metrics for Meta Platforms, Inc., highlighting both the second quarter and first half-year periods ending June 30 for the years 2023 and 2024. The table compares GAAP (Generally Accepted Accounting Principles) revenue, the foreign exchange impact, and adjusted revenue figures for both total revenue and advertising revenue. It also includes year-over-year percentage changes for these metrics. Furthermore, it presents figures for operating cash flows, capital expenditures, principal lease payments, and free cash flow, comparing these results between the two years.\n",
      "\n",
      "Here's a breakdown of the table content:\n",
      "\n",
      "1. **Revenue Metrics:**\n",
      "   - **GAAP Revenue:** The unadjusted financial performance measure, which shows significant growth from 2023 to 2024 for both quarterly and half-year periods.\n",
      "   - **Foreign Exchange Effect:** Accounts for revenue changes due to fluctuations in exchange rates, allowing for the exclusion of this effect to show a direct comparison.\n",
      "   - **Revenue Excluding Foreign Exchange Effect:** Provides a more accurate view of revenue growth by excluding the foreign exchange impact.\n",
      "   - **Year-over-Year Percentage Change:** Displayed for both GAAP revenue and revenue excluding the foreign exchange effect, indicating the growth rate over the previous year. \n",
      "\n",
      "2. **Advertising Revenue:**\n",
      "   - Similar metrics as total revenue are provided specifically for advertising revenue, reflecting its importance to Meta's overall financial performance.\n",
      "\n",
      "3. **Cash Flow Metrics:**\n",
      "   - **Net Cash Provided by Operating Activities:** Demonstrates the cash generated by Meta's core operations, showing an increase year-over-year.\n",
      "   - **Capital Expenditures and Principal Payments on Finance Leases:** These outflows are essential for sustaining the company's operational capabilities.\n",
      "   - **Free Cash Flow:** Calculated by subtracting capital expenditures and principal lease payments from operating cash flow, this measure indicates the cash available for further investments, debt reduction, or shareholder returns.\n",
      "\n",
      "The table thus provides a comprehensive overview of Meta's financial performance in terms of revenue growth, the impact of foreign exchange rates, and cash flow metrics over a comparative two-year timeline.\n",
      "\n",
      "### Table in Markdown Format\n",
      "\n",
      "```markdown\n",
      "| **Metric**                                             | **Three Months Ended June 30, 2024** | **Three Months Ended June 30, 2023** | **Six Months Ended June 30, 2024** | **Six Months Ended June 30, 2023** |\n",
      "|--------------------------------------------------------|--------------------------------------|-------------------------------------|-----------------------------------|----------------------------------|\n",
      "| **GAAP revenue**                                       | $39,071                              | $31,999                             | $75,527                           | $60,645                          |\n",
      "| **Foreign exchange effect on 2024 revenue using 2023 rates** | 371                                  |                                     | 265                               |                                  |\n",
      "| **Revenue excluding foreign exchange effect**          | $39,442                              |                                     | $75,792                           |                                  |\n",
      "| **GAAP revenue year-over-year change %**               | 22%                                  |                                     | 25%                               |                                  |\n",
      "| **Revenue excluding foreign exchange effect year-over-year change %** | 23%                                  |                                     | 25%                               |                                  |\n",
      "| **GAAP advertising revenue**                           | $38,329                              | $31,498                             | $73,965                           | $59,599                          |\n",
      "| **Foreign exchange effect on 2024 advertising revenue using 2023 rates** | 367                                  |                                     | 261                               |                                  |\n",
      "| **Advertising revenue excluding foreign exchange effect** | $38,696                              |                                     | $74,226                           |                                  |\n",
      "| **GAAP advertising revenue year-over-year change %**   | 22%                                  |                                     | 24%                               |                                  |\n",
      "| **Advertising revenue excluding foreign exchange effect year-over-year change %** | 23%                                  |                                     | 25%                               |                                  |\n",
      "| **Net cash provided by operating activities**          | $19,370                              | $17,309                             | $38,616                           | $31,307                          |\n",
      "| **Purchases of property and equipment, net**           | ($8,173)                             | ($6,134)                            | ($14,573)                         | ($12,957)                        |\n",
      "| **Principal payments on finance leases**               | ($299)                               | ($220)                              | ($614)                            | ($484)                           |\n",
      "| **Free cash flow**                                     | $10,898                              | $10,955                             | $23,429                           | $17,866                          |\n",
      "```\n",
      "This table effectively communicates the key financial metrics and their variations, providing a snapshot of Meta's financial health over the specified period.\n",
      "Processing complete.\n"
     ]
    },
    {
     "name": "stderr",
     "output_type": "stream",
     "text": [
      "\n"
     ]
    }
   ],
   "source": [
    "from openai import OpenAI\n",
    "import fitz\n",
    "from tqdm import tqdm\n",
    "\n",
    "# Initialize the OpenAI client\n",
    "client = OpenAI(api_key=os.getenv(\"OPENAI_API_KEY\"))\n",
    "\n",
    "def get_table_description(table_content, document_context):\n",
    "    prompt = f\"\"\"\n",
    "    Given the following table and its context from the original document,\n",
    "    provide a detailed description of the table. Then, include the table in markdown format.\n",
    "\n",
    "    Original Document Context:\n",
    "    {document_context}\n",
    "\n",
    "    Table Content:\n",
    "    {table_content}\n",
    "\n",
    "    Please provide:\n",
    "    1. A comprehensive description of the table.\n",
    "    2. The table in markdown format.\n",
    "    \"\"\"\n",
    "\n",
    "    response = client.chat.completions.create(\n",
    "        model=\"gpt-4o\",\n",
    "        messages=[\n",
    "            {\"role\": \"system\", \"content\": \"You are a helpful assistant that describes tables and formats them in markdown.\"},\n",
    "            {\"role\": \"user\", \"content\": prompt}\n",
    "        ]\n",
    "    )\n",
    "    return response.choices[0].message.content\n",
    "\n",
    "def extract_text_from_pdf(pdf_path):\n",
    "    text = \"\"\n",
    "\n",
    "    with fitz.open(pdf_path) as doc:\n",
    "        for page in doc:\n",
    "            text += page.get_text()\n",
    "    return text\n",
    "\n",
    "document_content = extract_text_from_pdf(INPUT_PATH)\n",
    "\n",
    "# Process each table in the directory\n",
    "for element in tqdm(elements):\n",
    "  if element.get('type') == 'Table':\n",
    "    table_content = element.get('text')\n",
    "\n",
    "    # Get description and markdown table from GPT-4\n",
    "    result = get_table_description(table_content, document_content)\n",
    "    element['text'] = result\n",
    "\n",
    "print(\"Processing complete.\")\n"
   ]
  },
  {
   "cell_type": "code",
   "execution_count": 39,
   "metadata": {},
   "outputs": [],
   "source": [
    "# Save the updated elements to a new file\n",
    "PREFIX = 'processed-'\n",
    "with open(os.path.join(OUTPUT_PATH, PREFIX + FILENAME + '.json'), 'w') as f:\n",
    "    json.dump(elements, f, indent=4)"
   ]
  },
  {
   "cell_type": "markdown",
   "metadata": {},
   "source": [
    "# Use DSPy to create simple RAG"
   ]
  },
  {
   "cell_type": "code",
   "execution_count": 40,
   "metadata": {},
   "outputs": [],
   "source": [
    "import dspy\n",
    "\n",
    "lm = dspy.LM('openai/gpt-4o-mini')\n",
    "dspy.configure(lm=lm)"
   ]
  },
  {
   "cell_type": "code",
   "execution_count": 42,
   "metadata": {},
   "outputs": [
    {
     "name": "stdout",
     "output_type": "stream",
     "text": [
      "Loaded 88 documents. Will encode them below.\n"
     ]
    }
   ],
   "source": [
    "max_characters = 6000  # for truncating >99th percentile of documents\n",
    "topk_docs_to_retrieve = 5  # number of documents to retrieve per search query\n",
    "\n",
    "elements = json.load(open(OUTPUT_PATH + PREFIX + FILENAME + '.json'))\n",
    "corpus = [element['text'][:max_characters] for element in elements]\n",
    "print(f\"Loaded {len(corpus)} documents. Will encode them below.\")\n",
    "embedder = dspy.Embedder('openai/text-embedding-3-small', dimensions=512)\n",
    "search = dspy.retrievers.Embeddings(embedder=embedder, corpus=corpus, k=topk_docs_to_retrieve)"
   ]
  },
  {
   "cell_type": "code",
   "execution_count": 45,
   "metadata": {},
   "outputs": [],
   "source": [
    "class RAG(dspy.Module):\n",
    "    def __init__(self):\n",
    "        self.respond = dspy.ChainOfThought('context, question -> response')\n",
    "\n",
    "    def forward(self, question):\n",
    "        context = search(question).passages\n",
    "        return self.respond(context=context, question=question)"
   ]
  },
  {
   "cell_type": "code",
   "execution_count": 46,
   "metadata": {},
   "outputs": [
    {
     "name": "stderr",
     "output_type": "stream",
     "text": [
      "\u001b[92m16:52:16 - LiteLLM:INFO\u001b[0m: utils.py:2741 - \n",
      "LiteLLM completion() model= gpt-4o-mini; provider = openai\n",
      "INFO: \n",
      "LiteLLM completion() model= gpt-4o-mini; provider = openai\n",
      "INFO: HTTP Request: POST https://api.openai.com/v1/chat/completions \"HTTP/1.1 200 OK\"\n",
      "\u001b[92m16:52:18 - LiteLLM:INFO\u001b[0m: utils.py:890 - Wrapper: Completed Call, calling success_handler\n",
      "INFO: Wrapper: Completed Call, calling success_handler\n"
     ]
    },
    {
     "data": {
      "text/plain": [
       "Prediction(\n",
       "    reasoning=\"Meta's revenue for the three months ended June 30, 2024, is reported as $39,071 million, which shows a significant increase from $31,999 million in the same period of 2023. For the six-month period, revenue grew from $60,645 million in 2023 to $75,527 million in 2024. This indicates strong financial performance and growth in revenue.\",\n",
       "    response=\"Meta's revenue for the three months ended June 30, 2024, is $39,071 million, and for the six months ended June 30, 2024, it is $75,527 million.\"\n",
       ")"
      ]
     },
     "execution_count": 46,
     "metadata": {},
     "output_type": "execute_result"
    }
   ],
   "source": [
    "rag = RAG()\n",
    "rag(question=\"What is meta's revenue?\")"
   ]
  }
 ],
 "metadata": {
  "kernelspec": {
   "display_name": "Python 3",
   "language": "python",
   "name": "python3"
  },
  "language_info": {
   "codemirror_mode": {
    "name": "ipython",
    "version": 3
   },
   "file_extension": ".py",
   "mimetype": "text/x-python",
   "name": "python",
   "nbconvert_exporter": "python",
   "pygments_lexer": "ipython3",
   "version": "3.10.16"
  }
 },
 "nbformat": 4,
 "nbformat_minor": 2
}
